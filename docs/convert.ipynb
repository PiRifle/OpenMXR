{
 "cells": [
  {
   "cell_type": "code",
   "execution_count": null,
   "metadata": {},
   "outputs": [],
   "source": [
    "import subprocess as sp\n",
    "import soundfile\n",
    "\n",
    "bytes_io = open('aa.opus', \"rb\")\n",
    "bytes_io.seek(0)\n",
    "\n",
    "ffmpeg = 'ffmpeg'\n",
    "\n",
    "cmd = [ffmpeg,\n",
    "       '-i', 'pipe:',\n",
    "       '-f', 'wav',\n",
    "       '-report',\n",
    "       'pipe:']\n",
    "\n",
    "proc = sp.Popen(cmd, stdout=sp.PIPE, stdin=sp.PIPE)\n",
    "out = proc.communicate(input=bytes_io.read())[0]\n",
    "\n",
    "proc.wait()\n",
    "\n",
    "print(\"encoded!!!!!\")\n",
    "with open(\"python.wav\", \"wb\") as f:\n",
    "    f.write(out)\n",
    "\n",
    "print(soundfile.read(out))    "
   ]
  }
 ],
 "metadata": {
  "kernelspec": {
   "display_name": "base",
   "language": "python",
   "name": "python3"
  },
  "language_info": {
   "codemirror_mode": {
    "name": "ipython",
    "version": 3
   },
   "file_extension": ".py",
   "mimetype": "text/x-python",
   "name": "python",
   "nbconvert_exporter": "python",
   "pygments_lexer": "ipython3",
   "version": "3.10.12"
  }
 },
 "nbformat": 4,
 "nbformat_minor": 2
}
