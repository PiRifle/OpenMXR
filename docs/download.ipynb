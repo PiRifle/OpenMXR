{
 "cells": [
  {
   "cell_type": "code",
   "execution_count": 2,
   "metadata": {},
   "outputs": [],
   "source": [
    "import asyncio\n",
    "import concurrent.futures\n",
    "import functools\n",
    "import requests\n",
    "import os\n",
    "\n",
    "import nest_asyncio\n",
    "nest_asyncio.apply()\n",
    "\n",
    "# WARNING:\n",
    "# Here I'm pointing to a publicly available sample video.\n",
    "# If you are planning on running this code, make sure the\n",
    "# video is still available as it might change location or get deleted.\n",
    "# If necessary, replace it with a URL you know is working.\n",
    "URL = 'https://rr3---sn-2va3vhuxa-f5fz.googlevideo.com/videoplayback?expire=1706544461&ei=7Xi3ZbKhCp_Ki9oPva-YiA0&ip=31.0.1.112&id=o-AOuZ726bvjOwMCUB6WqJugpl_N_uAM8ZfhUAoqbFUfT8&itag=251&source=youtube&requiressl=yes&xpc=EgVo2aDSNQ%3D%3D&mh=ha&mm=31%2C29&mn=sn-2va3vhuxa-f5fz%2Csn-f5f7lnld&ms=au%2Crdu&mv=m&mvi=3&pl=19&initcwndbps=540000&vprv=1&svpuc=1&mime=audio%2Fwebm&gir=yes&clen=4790544&dur=287.241&lmt=1701471774487386&mt=1706522691&fvip=2&keepalive=yes&fexp=24007246&c=ANDROID&txp=5532434&sparams=expire%2Cei%2Cip%2Cid%2Citag%2Csource%2Crequiressl%2Cxpc%2Cvprv%2Csvpuc%2Cmime%2Cgir%2Cclen%2Cdur%2Clmt&sig=AJfQdSswRAIgVTx-YdA7GVUh5I20ObF_SzsP7gHknDAgyNqL1LFuZVoCICIR2Got5wZdYkr9b6Tf-JWJ0JzPlHiDgA4ij45OKjWN&lsparams=mh%2Cmm%2Cmn%2Cms%2Cmv%2Cmvi%2Cpl%2Cinitcwndbps&lsig=AAO5W4owRQIhAKYLT3lTXzI0xoPVS8_O-O_EB8SwEcN-BMfIJZIyoiaAAiAL4HCR00kCGpm7S-0gR7o0EM6VdVHykzp_K7P8OOmP-Q%3D%3D'\n",
    "OUTPUT = 'video.webm'\n",
    "\n"
   ]
  },
  {
   "cell_type": "code",
   "execution_count": null,
   "metadata": {},
   "outputs": [],
   "source": [
    "\n",
    "async def get_size(url):\n",
    "    response = requests.head(url)\n",
    "    size = int(response.headers['Content-Length'])\n",
    "    return size\n",
    "\n",
    "\n",
    "def download_range(url, start, end, output):\n",
    "    print(\"downloading\", url, start, end)\n",
    "    headers = {'Range': f'bytes={start}-{end}'}\n",
    "    response = requests.get(url, headers=headers)\n",
    "\n",
    "    with open(output, 'wb') as f:\n",
    "        for part in response.iter_content(1024):\n",
    "            f.write(part)\n",
    "\n",
    "\n",
    "async def download(run, loop, url, output, chunk_size=1000000):\n",
    "    file_size = await get_size(url)\n",
    "    chunks = range(0, file_size, chunk_size)\n",
    "\n",
    "    tasks = [\n",
    "        run(\n",
    "            download_range,\n",
    "            url,\n",
    "            start,\n",
    "            start + chunk_size - 1,\n",
    "            f'{output}.part{i}',\n",
    "        )\n",
    "        for i, start in enumerate(chunks)\n",
    "    ]\n",
    "\n",
    "    await asyncio.wait(tasks)\n",
    "\n",
    "    with open(output, 'wb') as o:\n",
    "        for i in range(len(chunks)):\n",
    "            chunk_path = f'{output}.part{i}'\n",
    "\n",
    "            with open(chunk_path, 'rb') as s:\n",
    "                o.write(s.read())\n",
    "\n",
    "            os.remove(chunk_path)\n",
    " "
   ]
  },
  {
   "cell_type": "code",
   "execution_count": null,
   "metadata": {},
   "outputs": [],
   "source": [
    "executor = concurrent.futures.ThreadPoolExecutor(max_workers=3)\n",
    "loop = asyncio.new_event_loop()\n",
    "run = functools.partial(loop.run_in_executor, executor)\n",
    "\n",
    "asyncio.set_event_loop(loop)\n",
    "\n",
    "try:\n",
    "    loop.run_until_complete(\n",
    "        download(run, loop, URL, OUTPUT)\n",
    "    )\n",
    "finally:\n",
    "    loop.close()"
   ]
  },
  {
   "cell_type": "code",
   "execution_count": 9,
   "metadata": {},
   "outputs": [
    {
     "name": "stdout",
     "output_type": "stream",
     "text": [
      "downloading 0 0 999999\n",
      "downloading 1 1000000 1999999\n",
      "downloading 2 2000000 2999999\n",
      "downloading 3 3000000 3999999\n",
      "downloading 4 4000000 4999999\n"
     ]
    },
    {
     "data": {
      "application/vnd.jupyter.widget-view+json": {
       "model_id": "88be276845e84ae6b1a039ce58c390cc",
       "version_major": 2,
       "version_minor": 0
      },
      "text/plain": [
       "  0%|          | 0.00/1.00M [00:00<?, ?B/s]"
      ]
     },
     "metadata": {},
     "output_type": "display_data"
    },
    {
     "data": {
      "application/vnd.jupyter.widget-view+json": {
       "model_id": "140002457af340349197607a4ba1d580",
       "version_major": 2,
       "version_minor": 0
      },
      "text/plain": [
       "  0%|          | 0.00/1.00M [00:00<?, ?B/s]"
      ]
     },
     "metadata": {},
     "output_type": "display_data"
    },
    {
     "data": {
      "application/vnd.jupyter.widget-view+json": {
       "model_id": "9e1a4b31d36b49fca7f8afd3b1c75c11",
       "version_major": 2,
       "version_minor": 0
      },
      "text/plain": [
       "  0%|          | 0.00/1.00M [00:00<?, ?B/s]"
      ]
     },
     "metadata": {},
     "output_type": "display_data"
    },
    {
     "data": {
      "application/vnd.jupyter.widget-view+json": {
       "model_id": "5c52e424680c429699ea9b2ef6591224",
       "version_major": 2,
       "version_minor": 0
      },
      "text/plain": [
       "  0%|          | 0.00/1.00M [00:00<?, ?B/s]"
      ]
     },
     "metadata": {},
     "output_type": "display_data"
    },
    {
     "data": {
      "application/vnd.jupyter.widget-view+json": {
       "model_id": "0a37ec3b33884ad19d0f791af915e32b",
       "version_major": 2,
       "version_minor": 0
      },
      "text/plain": [
       "  0%|          | 0.00/1.00M [00:00<?, ?B/s]"
      ]
     },
     "metadata": {},
     "output_type": "display_data"
    }
   ],
   "source": [
    "import asyncio\n",
    "import concurrent.futures\n",
    "import io\n",
    "\n",
    "from tqdm.notebook import tqdm\n",
    "\n",
    "def get_size(url):\n",
    "    response = requests.head(url)\n",
    "    size = int(response.headers['Content-Length'])\n",
    "    return size\n",
    "\n",
    "def download_range(url, start, end, id):\n",
    "    print(\"downloading\", id, start, end)\n",
    "    headers = {'Range': f'bytes={start}-{end}'}\n",
    "    progress_bar = tqdm(total=end-start, unit='B', unit_scale=True)\n",
    "    response = requests.get(url, headers=headers)\n",
    "\n",
    "    output = io.BytesIO()\n",
    "    for part in response.iter_content(1024):\n",
    "        output.write(part)\n",
    "        progress_bar.update(len(part))\n",
    "    progress_bar.close()\n",
    "    return output\n",
    "\n",
    "def run_async_functions_asyncio(url):\n",
    "    chunk_size=1000000\n",
    "    file_size = get_size(url)\n",
    "    chunks = range(0, file_size, chunk_size)\n",
    "\n",
    "    # tasks = [async_function(i) for i in range(len(functions))]\n",
    "    with concurrent.futures.ThreadPoolExecutor(max_workers=12) as executor:\n",
    "        futures = {executor.submit(download_range, url, start, start + chunk_size - 1, i): (download_range, (url, start, start + chunk_size - 1, i)) for i, start in enumerate(chunks)}\n",
    "        concurrent.futures.wait(futures.keys())\n",
    "\n",
    "        # Wait for all tasks to complete using as_completed\n",
    "        results = []\n",
    "        intermediate = []\n",
    "        for future in concurrent.futures.as_completed(futures):\n",
    "            func, args = futures[future]\n",
    "            result = future.result()\n",
    "            intermediate.append((args[3], result))\n",
    "\n",
    "    results = [a[1] for a in list(sorted(intermediate, key=lambda x:x[0]))]\n",
    "\n",
    "    return results\n",
    "\n",
    "def main():\n",
    "\n",
    "    results = run_async_functions_asyncio(URL)\n",
    "    buffer = b''\n",
    "\n",
    "    for i, result in enumerate(results):\n",
    "        buffer+=result.getvalue()\n",
    "    return buffer\n",
    "\n",
    "if __name__ == \"__main__\":\n",
    "    value = main()\n",
    "    with open(\"file.webm\", \"wb\") as f:  \n",
    "        f.write(value)\n"
   ]
  },
  {
   "cell_type": "code",
   "execution_count": null,
   "metadata": {},
   "outputs": [],
   "source": [
    "def run_parallel_functions(functions, *args_list):\n",
    "    with concurrent.futures.ThreadPoolExecutor() as executor:\n",
    "        futures = {executor.submit(func, *args): (func, args) for func, args in zip(functions, zip(*args_list))}\n",
    "\n",
    "        # Wait for all tasks to complete using as_completed\n",
    "\n",
    "        concurrent.futures.wait(futures.keys())\n",
    "\n",
    "        results = []\n",
    "        for future in concurrent.futures.as_completed(futures):\n",
    "            func, args = futures[future]\n",
    "            result = future.result()\n",
    "            results.append(result)\n",
    "\n",
    "    return results\n",
    "\n",
    "if __name__ == \"__main__\":\n",
    "\n",
    "    results = run_parallel_functions(functions_to_run)\n",
    "    print(results)"
   ]
  }
 ],
 "metadata": {
  "kernelspec": {
   "display_name": "base",
   "language": "python",
   "name": "python3"
  },
  "language_info": {
   "codemirror_mode": {
    "name": "ipython",
    "version": 3
   },
   "file_extension": ".py",
   "mimetype": "text/x-python",
   "name": "python",
   "nbconvert_exporter": "python",
   "pygments_lexer": "ipython3",
   "version": "3.9.16"
  },
  "orig_nbformat": 4
 },
 "nbformat": 4,
 "nbformat_minor": 2
}
