{
 "cells": [
  {
   "cell_type": "code",
   "execution_count": 1,
   "metadata": {},
   "outputs": [
    {
     "data": {
      "application/vnd.jupyter.widget-view+json": {
       "model_id": "1e75748f532f41499a90758fa30b0543",
       "version_major": 2,
       "version_minor": 0
      },
      "text/plain": [
       "Output()"
      ]
     },
     "metadata": {},
     "output_type": "display_data"
    },
    {
     "name": "stderr",
     "output_type": "stream",
     "text": [
      "[out#0/wav @ 0x63b3b0c42f00] video:0kB audio:79425kB subtitle:0kB other streams:0kB global headers:0kB muxing overhead: 0.000096%\n",
      "size=   79425kB time=00:07:03.60 bitrate=1536.0kbits/s speed= 423x    \n"
     ]
    }
   ],
   "source": [
    "from spotdl import Spotdl\n",
    "from spotdl.utils.config import DEFAULT_CONFIG\n",
    "from spotdl.download.downloader import Downloader\n",
    "from yt_dlp import YoutubeDL\n",
    "\n",
    "sp_client = Spotdl(\n",
    "    client_id=DEFAULT_CONFIG[\"client_id\"],\n",
    "    client_secret=DEFAULT_CONFIG[\"client_secret\"],\n",
    "    user_auth=DEFAULT_CONFIG[\"user_auth\"],\n",
    "    cache_path=DEFAULT_CONFIG[\"cache_path\"],\n",
    "    no_cache=True,\n",
    "    headless=True,\n",
    ")\n",
    "\n",
    "yt_client = Downloader(settings={\"simple_tui\": True})\n",
    "dl_client = YoutubeDL({'format': 'bestaudio/best'})"
   ]
  },
  {
   "cell_type": "code",
   "execution_count": 2,
   "metadata": {},
   "outputs": [],
   "source": [
    "from dataclasses import dataclass\n",
    "from io import BytesIO, TextIOWrapper\n",
    "import numpy as np\n",
    "import numpy.typing as npt\n",
    "import requests\n",
    "from pyparsing import Any\n",
    "from os import path, makedirs\n",
    "import hashlib\n",
    "import logging\n",
    "import json\n",
    "from soundfile import read\n",
    "from tqdm.notebook import tqdm\n",
    "import soundfile\n",
    "from openmxr.convert import convert_opus_to_wav\n",
    "import pickle\n",
    "\n",
    "from downloader.DownloadTask import DownloadTask\n",
    "\n",
    "\n",
    "\n",
    "def mkmd5(string: str):\n",
    "    return hashlib.md5(string.encode()).hexdigest()\n",
    "\n",
    "@dataclass\n",
    "class Metadata:\n",
    "    title: str\n",
    "    artist: str | None\n",
    "    cover: str | None\n",
    "    album: str | None\n",
    "    year: str | None\n",
    "    genre: str | None\n",
    "\n",
    "@dataclass\n",
    "class AnalyzedTrack:\n",
    "    meta: Metadata\n",
    "    sample_rate: int\n",
    "    key: int\n",
    "    waveform: npt.NDArray\n",
    "    downbeats: list[int]\n",
    "    best_downbeats: list[int]\n",
    "    bpm: int  \n",
    "\n",
    "\n",
    "class Cache:\n",
    "    name: str\n",
    "    \n",
    "    def __init__(self, name: str):\n",
    "        self.name = name\n",
    "        self.check_cache_exists()\n",
    "    \n",
    "    @staticmethod\n",
    "    def load(file: TextIOWrapper):\n",
    "        return json.load(file)\n",
    "\n",
    "    @staticmethod\n",
    "    def dump(data, file: TextIOWrapper):\n",
    "        return json.dump(data, file, ensure_ascii=False)\n",
    "\n",
    "\n",
    "    def check_cache_exists(self):\n",
    "        if not path.isdir(path.join(\"./.cache/\", self.name)):\n",
    "            logging.debug(f\"Creating cache {path.join('./.cache/', self.name)}\")\n",
    "            makedirs(path.join(\"./.cache/\", self.name))\n",
    "\n",
    "    def get_cache_filename(self, cache_key: str) -> str:\n",
    "        return path.join(\"./.cache/\", self.name, f\"{mkmd5(cache_key)}.cache\")\n",
    "\n",
    "    def get(self, key) -> Any | None:\n",
    "        cache_filename = self.get_cache_filename(key)\n",
    "        if not path.exists(cache_filename):\n",
    "            return None\n",
    "        logging.debug(f\"{self.name.upper()}: loading {cache_filename}\")\n",
    "        with open(cache_filename, 'rb') as file:\n",
    "            return self.load(file)\n",
    "\n",
    "    def set(self, key, data):\n",
    "        cache_filename = self.get_cache_filename(key)\n",
    "        logging.debug(f\"{self.name.upper()}: saving {cache_filename}\")\n",
    "        with open(cache_filename, 'wb') as file:\n",
    "            self.dump(data, file)\n",
    "            \n",
    "    \n",
    "class AudioCache(Cache):\n",
    "    @staticmethod\n",
    "    def load(file):\n",
    "        return tuple(pickle.load(file)) #type: ignore\n",
    "    \n",
    "    @staticmethod\n",
    "    def dump(data, file):\n",
    "        pickle.dump(data, file) #type: ignore\n",
    "\n",
    "class Song():\n",
    "    yt_link: str\n",
    "    spotify_link: str\n",
    "    _audio_cache: tuple[int, npt.NDArray] | None = None\n",
    "    _spotify_cache: dict[str, Any] | None = None\n",
    "    _yt_cache: dict[str, Any] | None = None\n",
    "    \n",
    "    __yt_cache_instance = Cache(\"yt\")\n",
    "    __spotify_cache_instance = Cache(\"spotify\")\n",
    "    __audio_cache_instance = AudioCache(\"audio\")\n",
    "    \n",
    "    def __init__(self, yt_url, spotify_url):\n",
    "        self.yt_link = yt_url\n",
    "        self.spotify_link = spotify_url\n",
    "        \n",
    "        if not self._yt_cache:\n",
    "            if (cached := self.__yt_cache_instance.get(self.yt_link)):\n",
    "                self._yt_cache = cached\n",
    "            else:\n",
    "                self._yt_cache = self._download_yt_meta()\n",
    "                self.__yt_cache_instance.set(self.yt_link, self._yt_cache)\n",
    "        if not self._spotify_cache:\n",
    "            if (cached := self.__spotify_cache_instance.get(self.yt_link)):\n",
    "                self._spotify_cache = cached\n",
    "            else:\n",
    "                self._spotify_cache = self._download_spotify_meta()\n",
    "                self.__spotify_cache_instance.set(self.yt_link, self._spotify_cache)\n",
    "\n",
    "        if not self._audio_cache:\n",
    "            if (cached := self.__audio_cache_instance.get(self.yt_link)):\n",
    "                self._audio_cache = cached\n",
    "            else:\n",
    "                self._audio_cache = self._download_audio()\n",
    "                self.__audio_cache_instance.set(self.yt_link, self._audio_cache)\n",
    "\n",
    "        logging.info(f\"loaded {self._spotify_cache['name']}\")\n",
    "        \n",
    "        # print(self._yt_cache[\"formats\"])\n",
    "        # print(self.yt_link, self.spotify_link, self._spotify_cache, self._yt_cache)\n",
    "    \n",
    "    @staticmethod\n",
    "    def _check_link_valid(url: str):\n",
    "        req = requests.head(url)\n",
    "        return req.status_code < 400\n",
    "            \n",
    "    \n",
    "    @classmethod\n",
    "    def find(cls, spotify_link = None, youtube_link = None, query = None):\n",
    "        if spotify_link and youtube_link:\n",
    "            logging.info(\"Loading custom song config\")\n",
    "            return cls(spotify_link, youtube_link)\n",
    "        if spotify_link:\n",
    "            logging.info(\"Loading from spotify\")\n",
    "            return cls.from_spotify_link(spotify_link)\n",
    "        if youtube_link:\n",
    "            logging.info(\"Loading from youtube\")\n",
    "            return cls.from_yt_link(youtube_link)\n",
    "        if query:\n",
    "            logging.info(f\"Searching {query}\")\n",
    "            return cls.from_search(query)\n",
    "    \n",
    "    @classmethod\n",
    "    def from_spotify_link(cls, spotify_link: str):\n",
    "        if (_cache_spotify := cls.__spotify_cache_instance.get(spotify_link)):\n",
    "            cls._spotify_cache = _cache_spotify\n",
    "            return cls(_cache_spotify[\"download_url\"], _cache_spotify[\"url\"])\n",
    "\n",
    "        spotify_song = sp_client.search([spotify_link])[0]\n",
    "        yt_url = yt_client.search(spotify_song)\n",
    "        spotify_song.download_url = yt_url\n",
    "        cls._spotify_cache = spotify_song.json\n",
    "        cls.__spotify_cache_instance.set(spotify_song.url, spotify_song.json)\n",
    "        return cls(yt_url, spotify_song.url)\n",
    "    \n",
    "    @classmethod\n",
    "    def from_yt_link(cls, youtube_link: str):\n",
    "        if (_cache_yt := cls.__yt_cache_instance.get(youtube_link)):    \n",
    "            cls._youtube_cache = _cache_yt\n",
    "            return cls(_cache_yt[\"url\"], _cache_yt[\"CUSTOM__spotify_url\"])\n",
    "        \n",
    "        yt_song = dl_client.extract_info(youtube_link, download=False)\n",
    "        cls._yt_cache = yt_song\n",
    "        \n",
    "        if yt_song:\n",
    "            title = f\"{yt_song.get('artist', '')} {yt_song.get('track', yt_song['fulltitle'])}\"\n",
    "            spotify_song = sp_client.search([title])[0]\n",
    "            cls._spotify_cache = spotify_song.json\n",
    "            spotify_song.download_url = youtube_link\n",
    "            yt_song[\"CUSTOM__spotify_url\"] = spotify_song.url\n",
    "            cls.__spotify_cache_instance.set(spotify_song.url, spotify_song.json)\n",
    "            cls.__yt_cache_instance.set(youtube_link, yt_song)\n",
    "            return cls(youtube_link, spotify_song.url)\n",
    "        raise Exception(\"this url is not valid\")\n",
    "    \n",
    "    @classmethod\n",
    "    def from_search(cls, query: str):\n",
    "        return cls.from_spotify_link(query) # dirty way to search for song\n",
    "    \n",
    "    def _download_audio(self) -> tuple[int, npt.NDArray]:\n",
    "        if not self._yt_cache:\n",
    "            raise Exception(\"youtube cache not initialized\")\n",
    "                    \n",
    "        audio_url = self._yt_cache[\"url\"]\n",
    "        if not self._check_link_valid(audio_url):\n",
    "            self._yt_cache = self._download_yt_meta()\n",
    "            self.__yt_cache_instance.set(self.yt_link, self._yt_cache)\n",
    "            audio_url = self._yt_cache[\"url\"]\n",
    "        \n",
    "        logging.info(f\"Downloading {self._yt_cache['fulltitle']}\")\n",
    "        buffer = DownloadTask(audio_url).start()\n",
    "        logging.info(f\"Downloaded {self._yt_cache['fulltitle']}\")\n",
    "        \n",
    "        logging.info(f\"Converting {self._yt_cache['fulltitle']}\")\n",
    "        buffer = convert_opus_to_wav(buffer)\n",
    "        logging.info(f\"Converted {self._yt_cache['fulltitle']}\")\n",
    "        \n",
    "        y, sr = soundfile.read(BytesIO(buffer))\n",
    "        return (sr, y)\n",
    "    \n",
    "    def _download_spotify_meta(self) -> dict[str, Any]:\n",
    "        spotify_song = sp_client.search([self.spotify_link])[0]\n",
    "        return spotify_song.json\n",
    "    \n",
    "    def _download_yt_meta(self) -> dict[str, Any]:\n",
    "        yt_song = dl_client.extract_info(self.yt_link, download=False)\n",
    "        if yt_song:\n",
    "            return yt_song\n",
    "        raise Exception(\"this url is not valid\")\n",
    "    \n",
    "    # def analyze(self) -> AnalyzedTrack:\n",
    "    #     return AnalyzedTrack() \n",
    "    \n",
    "logging.basicConfig(level=logging.INFO)\n"
   ]
  },
  {
   "cell_type": "code",
   "execution_count": 3,
   "metadata": {},
   "outputs": [
    {
     "data": {
      "text/plain": [
       "False"
      ]
     },
     "execution_count": 3,
     "metadata": {},
     "output_type": "execute_result"
    }
   ],
   "source": [
    "Song._check_link_valid(\"https://rr1---sn-2va3vhuxa-f5f6.googlevideo.com/videoplayback?expire=1706415413&ei=1YC1ZanSIuOni9oPqoe3uA0&ip=31.0.144.130&id=o-AN63kiccH-fWO3YZ223WCdaWpjPpnbddB4NHGLC1nlsT&itag=251&source=youtube&requiressl=yes&xpc=EgVo2aDSNQ%3D%3D&mh=PJ&mm=31%2C29&mn=sn-2va3vhuxa-f5f6%2Csn-f5f7lnl7&ms=au%2Crdu&mv=m&mvi=1&pl=19&gcr=pl&initcwndbps=446250&vprv=1&svpuc=1&mime=audio%2Fwebm&gir=yes&clen=7251122&dur=423.621&lmt=1626989482374168&mt=1706393598&fvip=3&keepalive=yes&fexp=24007246&c=ANDROID&txp=2311224&sparams=expire%2Cei%2Cip%2Cid%2Citag%2Csource%2Crequiressl%2Cxpc%2Cgcr%2Cvprv%2Csvpuc%2Cmime%2Cgir%2Cclen%2Cdur%2Clmt&sig=AJfQdSswRQIhAMowiZQrDWpOOdnpQfYd557tIiT-4s6_V5Vw_ZUosqy2AiAgfPiqvsRhAikKmeQVlj-_URiS12dahIC_i5hMG4RjmA%3D%3D&lsparams=mh%2Cmm%2Cmn%2Cms%2Cmv%2Cmvi%2Cpl%2Cinitcwndbps&lsig=AAO5W4owRgIhAKqcJvUpR6IqGEbZFz1tyHMLN_TxPfCxOYpR3k0hfhEOAiEA95DJbQjYRq_2bgRBqltt6aqWvKT_fj_R4KSBiuZJbfU%3D\")"
   ]
  },
  {
   "cell_type": "code",
   "execution_count": 4,
   "metadata": {},
   "outputs": [
    {
     "data": {
      "text/html": [
       "<pre style=\"white-space:pre;overflow-x:auto;line-height:normal;font-family:Menlo,'DejaVu Sans Mono',consolas,'Courier New',monospace\">INFO:root:Loading from spotify\n",
       "</pre>\n"
      ],
      "text/plain": [
       "INFO:root:Loading from spotify\n"
      ]
     },
     "metadata": {},
     "output_type": "display_data"
    },
    {
     "data": {
      "text/html": [
       "<pre style=\"white-space:pre;overflow-x:auto;line-height:normal;font-family:Menlo,'DejaVu Sans Mono',consolas,'Courier New',monospace\">INFO:root:Downloading No Hay Mañana (Club Mix)\n",
       "</pre>\n"
      ],
      "text/plain": [
       "INFO:root:Downloading No Hay Mañana (Club Mix)\n"
      ]
     },
     "metadata": {},
     "output_type": "display_data"
    },
    {
     "data": {
      "application/vnd.jupyter.widget-view+json": {
       "model_id": "ecdbb5d7726e41bfbd46c19bd50cb0c5",
       "version_major": 2,
       "version_minor": 0
      },
      "text/plain": [
       "  0%|          | 0.00/7.25M [00:00<?, ?B/s]"
      ]
     },
     "metadata": {},
     "output_type": "display_data"
    },
    {
     "data": {
      "text/html": [
       "<pre style=\"white-space:pre;overflow-x:auto;line-height:normal;font-family:Menlo,'DejaVu Sans Mono',consolas,'Courier New',monospace\">INFO:root:Downloaded No Hay Mañana (Club Mix)\n",
       "</pre>\n"
      ],
      "text/plain": [
       "INFO:root:Downloaded No Hay Mañana (Club Mix)\n"
      ]
     },
     "metadata": {},
     "output_type": "display_data"
    },
    {
     "data": {
      "text/html": [
       "<pre style=\"white-space:pre;overflow-x:auto;line-height:normal;font-family:Menlo,'DejaVu Sans Mono',consolas,'Courier New',monospace\">INFO:root:Converting No Hay Mañana (Club Mix)\n",
       "</pre>\n"
      ],
      "text/plain": [
       "INFO:root:Converting No Hay Mañana (Club Mix)\n"
      ]
     },
     "metadata": {},
     "output_type": "display_data"
    },
    {
     "name": "stderr",
     "output_type": "stream",
     "text": [
      "ffmpeg started on 2024-01-29 at 21:24:50\n",
      "Report written to \"ffmpeg-20240129-212450.log\"\n",
      "Log level: 48\n",
      "ffmpeg version n6.1.1 Copyright (c) 2000-2023 the FFmpeg developers\n",
      "  built with gcc 13.2.1 (GCC) 20230801\n",
      "  configuration: --prefix=/usr --disable-debug --disable-static --disable-stripping --enable-amf --enable-avisynth --enable-cuda-llvm --enable-lto --enable-fontconfig --enable-frei0r --enable-gmp --enable-gnutls --enable-gpl --enable-ladspa --enable-libaom --enable-libass --enable-libbluray --enable-libbs2b --enable-libdav1d --enable-libdrm --enable-libfreetype --enable-libfribidi --enable-libgsm --enable-libharfbuzz --enable-libiec61883 --enable-libjack --enable-libjxl --enable-libmodplug --enable-libmp3lame --enable-libopencore_amrnb --enable-libopencore_amrwb --enable-libopenjpeg --enable-libopenmpt --enable-libopus --enable-libplacebo --enable-libpulse --enable-librav1e --enable-librsvg --enable-librubberband --enable-libsnappy --enable-libsoxr --enable-libspeex --enable-libsrt --enable-libssh --enable-libsvtav1 --enable-libtheora --enable-libv4l2 --enable-libvidstab --enable-libvmaf --enable-libvorbis --enable-libvpl --enable-libvpx --enable-libwebp --enable-libx264 --enable-libx265 --enable-libxcb --enable-libxml2 --enable-libxvid --enable-libzimg --enable-nvdec --enable-nvenc --enable-opencl --enable-opengl --enable-shared --enable-version3 --enable-vulkan\n",
      "  libavutil      58. 29.100 / 58. 29.100\n",
      "  libavcodec     60. 31.102 / 60. 31.102\n",
      "  libavformat    60. 16.100 / 60. 16.100\n",
      "  libavdevice    60.  3.100 / 60.  3.100\n",
      "  libavfilter     9. 12.100 /  9. 12.100\n",
      "  libswscale      7.  5.100 /  7.  5.100\n",
      "  libswresample   4. 12.100 /  4. 12.100\n",
      "  libpostproc    57.  3.100 / 57.  3.100\n",
      "Input #0, matroska,webm, from 'pipe:':\n",
      "  Metadata:\n",
      "    encoder         : google/video-file\n",
      "  Duration: 00:07:03.62, start: -0.007000, bitrate: N/A\n",
      "  Stream #0:0(eng): Audio: opus, 48000 Hz, stereo, fltp (default)\n",
      "Stream mapping:\n",
      "  Stream #0:0 -> #0:0 (opus (native) -> pcm_s16le (native))\n",
      "Output #0, wav, to 'pipe:':\n",
      "  Metadata:\n",
      "    ISFT            : Lavf60.16.100\n",
      "  Stream #0:0(eng): Audio: pcm_s16le ([1][0][0][0] / 0x0001), 48000 Hz, stereo, s16, 1536 kb/s (default)\n",
      "    Metadata:\n",
      "      encoder         : Lavc60.31.102 pcm_s16le\n",
      "size=       0kB time=00:00:00.00 bitrate=   0.0kbits/s speed=N/A    \r"
     ]
    },
    {
     "name": "stderr",
     "output_type": "stream",
     "text": [
      "size=   36573kB time=00:03:15.08 bitrate=1535.8kbits/s speed= 390x    \r"
     ]
    },
    {
     "data": {
      "text/html": [
       "<pre style=\"white-space:pre;overflow-x:auto;line-height:normal;font-family:Menlo,'DejaVu Sans Mono',consolas,'Courier New',monospace\">INFO:root:Converted No Hay Mañana (Club Mix)\n",
       "</pre>\n"
      ],
      "text/plain": [
       "INFO:root:Converted No Hay Mañana (Club Mix)\n"
      ]
     },
     "metadata": {},
     "output_type": "display_data"
    },
    {
     "data": {
      "text/html": [
       "<pre style=\"white-space:pre;overflow-x:auto;line-height:normal;font-family:Menlo,'DejaVu Sans Mono',consolas,'Courier New',monospace\">INFO:root:Downloading No Hay Mañana (Club Mix)\n",
       "</pre>\n"
      ],
      "text/plain": [
       "INFO:root:Downloading No Hay Mañana (Club Mix)\n"
      ]
     },
     "metadata": {},
     "output_type": "display_data"
    },
    {
     "data": {
      "application/vnd.jupyter.widget-view+json": {
       "model_id": "b48bfdc9c0d141958c52e1d435c8062a",
       "version_major": 2,
       "version_minor": 0
      },
      "text/plain": [
       "  0%|          | 0.00/7.25M [00:00<?, ?B/s]"
      ]
     },
     "metadata": {},
     "output_type": "display_data"
    },
    {
     "data": {
      "text/html": [
       "<pre style=\"white-space:pre;overflow-x:auto;line-height:normal;font-family:Menlo,'DejaVu Sans Mono',consolas,'Courier New',monospace\">INFO:root:Downloaded No Hay Mañana (Club Mix)\n",
       "</pre>\n"
      ],
      "text/plain": [
       "INFO:root:Downloaded No Hay Mañana (Club Mix)\n"
      ]
     },
     "metadata": {},
     "output_type": "display_data"
    },
    {
     "data": {
      "text/html": [
       "<pre style=\"white-space:pre;overflow-x:auto;line-height:normal;font-family:Menlo,'DejaVu Sans Mono',consolas,'Courier New',monospace\">INFO:root:Converting No Hay Mañana (Club Mix)\n",
       "</pre>\n"
      ],
      "text/plain": [
       "INFO:root:Converting No Hay Mañana (Club Mix)\n"
      ]
     },
     "metadata": {},
     "output_type": "display_data"
    },
    {
     "name": "stderr",
     "output_type": "stream",
     "text": [
      "ffmpeg started on 2024-01-29 at 21:24:56\n",
      "Report written to \"ffmpeg-20240129-212456.log\"\n",
      "Log level: 48\n",
      "ffmpeg version n6.1.1 Copyright (c) 2000-2023 the FFmpeg developers\n",
      "  built with gcc 13.2.1 (GCC) 20230801\n",
      "  configuration: --prefix=/usr --disable-debug --disable-static --disable-stripping --enable-amf --enable-avisynth --enable-cuda-llvm --enable-lto --enable-fontconfig --enable-frei0r --enable-gmp --enable-gnutls --enable-gpl --enable-ladspa --enable-libaom --enable-libass --enable-libbluray --enable-libbs2b --enable-libdav1d --enable-libdrm --enable-libfreetype --enable-libfribidi --enable-libgsm --enable-libharfbuzz --enable-libiec61883 --enable-libjack --enable-libjxl --enable-libmodplug --enable-libmp3lame --enable-libopencore_amrnb --enable-libopencore_amrwb --enable-libopenjpeg --enable-libopenmpt --enable-libopus --enable-libplacebo --enable-libpulse --enable-librav1e --enable-librsvg --enable-librubberband --enable-libsnappy --enable-libsoxr --enable-libspeex --enable-libsrt --enable-libssh --enable-libsvtav1 --enable-libtheora --enable-libv4l2 --enable-libvidstab --enable-libvmaf --enable-libvorbis --enable-libvpl --enable-libvpx --enable-libwebp --enable-libx264 --enable-libx265 --enable-libxcb --enable-libxml2 --enable-libxvid --enable-libzimg --enable-nvdec --enable-nvenc --enable-opencl --enable-opengl --enable-shared --enable-version3 --enable-vulkan\n",
      "  libavutil      58. 29.100 / 58. 29.100\n",
      "  libavcodec     60. 31.102 / 60. 31.102\n",
      "  libavformat    60. 16.100 / 60. 16.100\n",
      "  libavdevice    60.  3.100 / 60.  3.100\n",
      "  libavfilter     9. 12.100 /  9. 12.100\n",
      "  libswscale      7.  5.100 /  7.  5.100\n",
      "  libswresample   4. 12.100 /  4. 12.100\n",
      "  libpostproc    57.  3.100 / 57.  3.100\n",
      "Input #0, matroska,webm, from 'pipe:':\n",
      "  Metadata:\n",
      "    encoder         : google/video-file\n",
      "  Duration: 00:07:03.62, start: -0.007000, bitrate: N/A\n",
      "  Stream #0:0(eng): Audio: opus, 48000 Hz, stereo, fltp (default)\n",
      "Stream mapping:\n",
      "  Stream #0:0 -> #0:0 (opus (native) -> pcm_s16le (native))\n",
      "Output #0, wav, to 'pipe:':\n",
      "  Metadata:\n",
      "    ISFT            : Lavf60.16.100\n",
      "  Stream #0:0(eng): Audio: pcm_s16le ([1][0][0][0] / 0x0001), 48000 Hz, stereo, s16, 1536 kb/s (default)\n",
      "    Metadata:\n",
      "      encoder         : Lavc60.31.102 pcm_s16le\n",
      "size=       0kB time=00:00:00.00 bitrate=   0.0kbits/s speed=N/A    \r"
     ]
    },
    {
     "name": "stderr",
     "output_type": "stream",
     "text": [
      "size=   38988kB time=00:03:27.96 bitrate=1535.8kbits/s speed= 416x    \r"
     ]
    },
    {
     "data": {
      "text/html": [
       "<pre style=\"white-space:pre;overflow-x:auto;line-height:normal;font-family:Menlo,'DejaVu Sans Mono',consolas,'Courier New',monospace\">INFO:root:Converted No Hay Mañana (Club Mix)\n",
       "</pre>\n"
      ],
      "text/plain": [
       "INFO:root:Converted No Hay Mañana (Club Mix)\n"
      ]
     },
     "metadata": {},
     "output_type": "display_data"
    }
   ],
   "source": [
    "song = (Song.find(spotify_link=\"https://open.spotify.com/track/0ddC48e0XVsjoczyIYiGCr\"))._download_audio()"
   ]
  },
  {
   "cell_type": "code",
   "execution_count": 5,
   "metadata": {},
   "outputs": [
    {
     "data": {
      "text/plain": [
       "(48000,\n",
       " array([[-0.00314331,  0.00991821],\n",
       "        [ 0.00018311,  0.0138855 ],\n",
       "        [ 0.00085449,  0.01239014],\n",
       "        ...,\n",
       "        [ 0.        ,  0.        ],\n",
       "        [ 0.        ,  0.        ],\n",
       "        [ 0.        ,  0.        ]]))"
      ]
     },
     "execution_count": 5,
     "metadata": {},
     "output_type": "execute_result"
    }
   ],
   "source": [
    "song"
   ]
  },
  {
   "cell_type": "code",
   "execution_count": null,
   "metadata": {},
   "outputs": [],
   "source": []
  }
 ],
 "metadata": {
  "kernelspec": {
   "display_name": "base",
   "language": "python",
   "name": "python3"
  },
  "language_info": {
   "codemirror_mode": {
    "name": "ipython",
    "version": 3
   },
   "file_extension": ".py",
   "mimetype": "text/x-python",
   "name": "python",
   "nbconvert_exporter": "python",
   "pygments_lexer": "ipython3",
   "version": "3.10.12"
  }
 },
 "nbformat": 4,
 "nbformat_minor": 2
}
