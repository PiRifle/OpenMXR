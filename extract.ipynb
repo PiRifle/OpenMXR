{
 "cells": [
  {
   "cell_type": "code",
   "execution_count": 1,
   "metadata": {},
   "outputs": [
    {
     "data": {
      "application/vnd.jupyter.widget-view+json": {
       "model_id": "0091d908eb7442b280ac588a625fe5d7",
       "version_major": 2,
       "version_minor": 0
      },
      "text/plain": [
       "Output()"
      ]
     },
     "metadata": {},
     "output_type": "display_data"
    }
   ],
   "source": [
    "import logging\n",
    "# logging.basicConfig(level=logging.DEBUG)\n",
    "from openmxr.song import Song"
   ]
  },
  {
   "cell_type": "code",
   "execution_count": 2,
   "metadata": {},
   "outputs": [
    {
     "data": {
      "text/html": [
       "<pre style=\"white-space:pre;overflow-x:auto;line-height:normal;font-family:Menlo,'DejaVu Sans Mono',consolas,'Courier New',monospace\">[youtube] Extracting URL: https://music.youtube.com/watch?v=pOFvXlGAPc0\n",
       "</pre>\n"
      ],
      "text/plain": [
       "[youtube] Extracting URL: https://music.youtube.com/watch?v=pOFvXlGAPc0\n"
      ]
     },
     "metadata": {},
     "output_type": "display_data"
    },
    {
     "data": {
      "text/html": [
       "<pre style=\"white-space:pre;overflow-x:auto;line-height:normal;font-family:Menlo,'DejaVu Sans Mono',consolas,'Courier New',monospace\">[youtube] pOFvXlGAPc0: Downloading webpage\n",
       "</pre>\n"
      ],
      "text/plain": [
       "[youtube] pOFvXlGAPc0: Downloading webpage\n"
      ]
     },
     "metadata": {},
     "output_type": "display_data"
    },
    {
     "data": {
      "text/html": [
       "<pre style=\"white-space:pre;overflow-x:auto;line-height:normal;font-family:Menlo,'DejaVu Sans Mono',consolas,'Courier New',monospace\">[youtube] pOFvXlGAPc0: Downloading ios player API JSON\n",
       "</pre>\n"
      ],
      "text/plain": [
       "[youtube] pOFvXlGAPc0: Downloading ios player API JSON\n"
      ]
     },
     "metadata": {},
     "output_type": "display_data"
    },
    {
     "data": {
      "text/html": [
       "<pre style=\"white-space:pre;overflow-x:auto;line-height:normal;font-family:Menlo,'DejaVu Sans Mono',consolas,'Courier New',monospace\">[youtube] pOFvXlGAPc0: Downloading android player API JSON\n",
       "</pre>\n"
      ],
      "text/plain": [
       "[youtube] pOFvXlGAPc0: Downloading android player API JSON\n"
      ]
     },
     "metadata": {},
     "output_type": "display_data"
    },
    {
     "data": {
      "text/html": [
       "<pre style=\"white-space:pre;overflow-x:auto;line-height:normal;font-family:Menlo,'DejaVu Sans Mono',consolas,'Courier New',monospace\">[youtube] pOFvXlGAPc0: Downloading ios music player API JSON\n",
       "</pre>\n"
      ],
      "text/plain": [
       "[youtube] pOFvXlGAPc0: Downloading ios music player API JSON\n"
      ]
     },
     "metadata": {},
     "output_type": "display_data"
    },
    {
     "data": {
      "text/html": [
       "<pre style=\"white-space:pre;overflow-x:auto;line-height:normal;font-family:Menlo,'DejaVu Sans Mono',consolas,'Courier New',monospace\">[youtube] pOFvXlGAPc0: Downloading android music player API JSON\n",
       "</pre>\n"
      ],
      "text/plain": [
       "[youtube] pOFvXlGAPc0: Downloading android music player API JSON\n"
      ]
     },
     "metadata": {},
     "output_type": "display_data"
    },
    {
     "data": {
      "text/html": [
       "<pre style=\"white-space:pre;overflow-x:auto;line-height:normal;font-family:Menlo,'DejaVu Sans Mono',consolas,'Courier New',monospace\">[youtube] pOFvXlGAPc0: Downloading web music client config\n",
       "</pre>\n"
      ],
      "text/plain": [
       "[youtube] pOFvXlGAPc0: Downloading web music client config\n"
      ]
     },
     "metadata": {},
     "output_type": "display_data"
    },
    {
     "data": {
      "text/html": [
       "<pre style=\"white-space:pre;overflow-x:auto;line-height:normal;font-family:Menlo,'DejaVu Sans Mono',consolas,'Courier New',monospace\">[youtube] pOFvXlGAPc0: Downloading player 6ee8f9ce\n",
       "</pre>\n"
      ],
      "text/plain": [
       "[youtube] pOFvXlGAPc0: Downloading player 6ee8f9ce\n"
      ]
     },
     "metadata": {},
     "output_type": "display_data"
    },
    {
     "data": {
      "text/html": [
       "<pre style=\"white-space:pre;overflow-x:auto;line-height:normal;font-family:Menlo,'DejaVu Sans Mono',consolas,'Courier New',monospace\">[youtube] pOFvXlGAPc0: Downloading web music player API JSON\n",
       "</pre>\n"
      ],
      "text/plain": [
       "[youtube] pOFvXlGAPc0: Downloading web music player API JSON\n"
      ]
     },
     "metadata": {},
     "output_type": "display_data"
    },
    {
     "data": {
      "text/html": [
       "<pre style=\"white-space:pre;overflow-x:auto;line-height:normal;font-family:Menlo,'DejaVu Sans Mono',consolas,'Courier New',monospace\">[youtube] pOFvXlGAPc0: Downloading m3u8 information\n",
       "</pre>\n"
      ],
      "text/plain": [
       "[youtube] pOFvXlGAPc0: Downloading m3u8 information\n"
      ]
     },
     "metadata": {},
     "output_type": "display_data"
    },
    {
     "data": {
      "text/html": [
       "<pre style=\"white-space:pre;overflow-x:auto;line-height:normal;font-family:Menlo,'DejaVu Sans Mono',consolas,'Courier New',monospace\">[youtube] pOFvXlGAPc0: Downloading m3u8 information\n",
       "</pre>\n"
      ],
      "text/plain": [
       "[youtube] pOFvXlGAPc0: Downloading m3u8 information\n"
      ]
     },
     "metadata": {},
     "output_type": "display_data"
    },
    {
     "data": {
      "application/vnd.jupyter.widget-view+json": {
       "model_id": "2e7aae13f889407ebe97f4356fee8e7d",
       "version_major": 2,
       "version_minor": 0
      },
      "text/plain": [
       "  0%|          | 0.00/4.59M [00:00<?, ?B/s]"
      ]
     },
     "metadata": {},
     "output_type": "display_data"
    },
    {
     "data": {
      "application/vnd.jupyter.widget-view+json": {
       "model_id": "e61873b3e4f0409a974e60495193c340",
       "version_major": 2,
       "version_minor": 0
      },
      "text/plain": [
       "Compressing:   0%|          | 0.00/212M [00:00<?, ?B/s]"
      ]
     },
     "metadata": {},
     "output_type": "display_data"
    }
   ],
   "source": [
    "\n",
    "\n",
    "song: Song = Song.find(spotify_link=\"https://open.spotify.com/track/6l9Vr4mIGOH2MHnxyiqUGY\")"
   ]
  },
  {
   "cell_type": "code",
   "execution_count": null,
   "metadata": {},
   "outputs": [],
   "source": []
  },
  {
   "cell_type": "code",
   "execution_count": 3,
   "metadata": {},
   "outputs": [],
   "source": [
    "if not song.youtube_meta[\"heatmap\"]:\n",
    "    pass\n",
    "items = sorted(song.youtube_meta[\"heatmap\"], reverse=True, key=lambda x:x[\"value\"])[:3]\n",
    "heat_moments = [int(i[\"start_time\"] * song.sample_rate+i[\"end_time\"] * song.sample_rate)//2 for i in items]"
   ]
  },
  {
   "cell_type": "code",
   "execution_count": 4,
   "metadata": {},
   "outputs": [
    {
     "data": {
      "text/plain": [
       "[5895360, 5762880, 5630400]"
      ]
     },
     "execution_count": 4,
     "metadata": {},
     "output_type": "execute_result"
    }
   ],
   "source": [
    "heat_moments"
   ]
  },
  {
   "cell_type": "code",
   "execution_count": 11,
   "metadata": {},
   "outputs": [],
   "source": [
    "from scipy.signal import resample\n",
    "\n",
    "# y2 = resample(song.audio[0], (len(song.audio[0])//song.sample_rate)*44100)\n",
    "y2 = song.resampled(44100, True)"
   ]
  },
  {
   "cell_type": "code",
   "execution_count": 6,
   "metadata": {},
   "outputs": [
    {
     "data": {
      "text/plain": [
       "array([[1.0000e-02, 1.0000e+00],\n",
       "       [3.7000e-01, 2.0000e+00],\n",
       "       [7.5000e-01, 3.0000e+00],\n",
       "       ...,\n",
       "       [2.6933e+02, 3.0000e+00],\n",
       "       [2.6970e+02, 4.0000e+00],\n",
       "       [2.7009e+02, 1.0000e+00]])"
      ]
     },
     "execution_count": 6,
     "metadata": {},
     "output_type": "execute_result"
    }
   ],
   "source": [
    "\n",
    "from madmom.features.downbeats import DBNDownBeatTrackingProcessor, RNNDownBeatProcessor\n",
    "\n",
    "downbeats_proc = DBNDownBeatTrackingProcessor(beats_per_bar=[4], fps=100)\n",
    "activations = RNNDownBeatProcessor()\n",
    "\n",
    "activations = activations(y2, sample_rate=44100, num_channels=1)\n",
    "downbeats = downbeats_proc(activations)\n",
    "\n",
    "downbeats"
   ]
  },
  {
   "cell_type": "code",
   "execution_count": 10,
   "metadata": {},
   "outputs": [
    {
     "data": {
      "text/plain": [
       "160.71428571428572"
      ]
     },
     "execution_count": 10,
     "metadata": {},
     "output_type": "execute_result"
    }
   ],
   "source": [
    "import librosa\n",
    "beats = librosa.beat.beat_track(y=song.audio_mono, sr=song.sample_rate)\n",
    "bpm = beats[0]\n",
    "\n",
    "bpm"
   ]
  },
  {
   "cell_type": "code",
   "execution_count": 8,
   "metadata": {},
   "outputs": [
    {
     "data": {
      "text/html": [
       "<pre style=\"white-space:pre;overflow-x:auto;line-height:normal;font-family:Menlo,'DejaVu Sans Mono',consolas,'Courier New',monospace\">C:\\Users\\piotr\\AppData\\Roaming\\Python\\Python311\\site-packages\\librosa\\core\\pitch.py:102: UserWarning: Trying to \n",
       "estimate tuning from empty frequency set.\n",
       "  return pitch_tuning(\n",
       "</pre>\n"
      ],
      "text/plain": [
       "C:\\Users\\piotr\\AppData\\Roaming\\Python\\Python311\\site-packages\\librosa\\core\\pitch.py:102: UserWarning: Trying to \n",
       "estimate tuning from empty frequency set.\n",
       "  return pitch_tuning(\n"
      ]
     },
     "metadata": {},
     "output_type": "display_data"
    },
    {
     "data": {
      "text/plain": [
       "'C'"
      ]
     },
     "execution_count": 8,
     "metadata": {},
     "output_type": "execute_result"
    }
   ],
   "source": [
    "import numpy as np\n",
    "\n",
    "\n",
    "chromagram = librosa.feature.chroma_stft(y=song.audio_mono, sr=song.sample_rate)\n",
    "mean_chroma = np.mean(chromagram, axis=1)\n",
    "chroma_to_key = ['C', 'C#', 'D', 'D#', 'E', 'F', 'F#', 'G', 'G#', 'A', 'A#', 'B']\n",
    "estimated_key_index = np.argmax(mean_chroma)\n",
    "estimated_key = chroma_to_key[estimated_key_index]\n",
    "estimated_key\n"
   ]
  },
  {
   "cell_type": "code",
   "execution_count": 9,
   "metadata": {},
   "outputs": [
    {
     "data": {
      "text/plain": [
       "[123.0, 120.0, 117.37]"
      ]
     },
     "execution_count": 9,
     "metadata": {},
     "output_type": "execute_result"
    }
   ],
   "source": [
    "mapped = [min([int(i*song.sample_rate) for i in downbeats[:, 0]], key=lambda x:abs(x-hotspot)) for hotspot in heat_moments]\n",
    "[a/song.sample_rate for a in mapped]"
   ]
  }
 ],
 "metadata": {
  "kernelspec": {
   "display_name": "base",
   "language": "python",
   "name": "python3"
  },
  "language_info": {
   "codemirror_mode": {
    "name": "ipython",
    "version": 3
   },
   "file_extension": ".py",
   "mimetype": "text/x-python",
   "name": "python",
   "nbconvert_exporter": "python",
   "pygments_lexer": "ipython3",
   "version": "3.11.4"
  }
 },
 "nbformat": 4,
 "nbformat_minor": 2
}
