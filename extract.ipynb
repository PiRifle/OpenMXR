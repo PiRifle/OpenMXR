{
 "cells": [
  {
   "cell_type": "code",
   "execution_count": 1,
   "metadata": {},
   "outputs": [
    {
     "data": {
      "application/vnd.jupyter.widget-view+json": {
       "model_id": "2c926974ecfd41469e4b2e55262a4d7c",
       "version_major": 2,
       "version_minor": 0
      },
      "text/plain": [
       "Output()"
      ]
     },
     "metadata": {},
     "output_type": "display_data"
    }
   ],
   "source": [
    "import logging\n",
    "# logging.basicConfig(level=logging.DEBUG)\n",
    "from openmxr.song import Song"
   ]
  },
  {
   "cell_type": "code",
   "execution_count": 2,
   "metadata": {},
   "outputs": [],
   "source": [
    "\n",
    "\n",
    "song: Song = Song.find(spotify_link=\"https://open.spotify.com/track/6l9Vr4mIGOH2MHnxyiqUGY\")"
   ]
  },
  {
   "cell_type": "code",
   "execution_count": 4,
   "metadata": {},
   "outputs": [
    {
     "data": {
      "text/plain": [
       "array([ 2.41287193e-03, -6.60464620e-03, -4.84900443e-03, ...,\n",
       "       -2.97506517e-05,  2.98429683e-05, -1.95980130e-05])"
      ]
     },
     "execution_count": 4,
     "metadata": {},
     "output_type": "execute_result"
    }
   ],
   "source": []
  },
  {
   "cell_type": "code",
   "execution_count": null,
   "metadata": {},
   "outputs": [],
   "source": [
    "if not song.youtube_meta[\"heatmap\"]:\n",
    "    pass\n",
    "items = sorted(song.youtube_meta[\"heatmap\"], reverse=True, key=lambda x:x[\"value\"])[:3]\n",
    "heat_moments = [int(i[\"start_time\"] * song.sample_rate+i[\"end_time\"] * song.sample_rate)//2 for i in items]"
   ]
  },
  {
   "cell_type": "code",
   "execution_count": null,
   "metadata": {},
   "outputs": [],
   "source": [
    "heat_moments"
   ]
  },
  {
   "cell_type": "code",
   "execution_count": null,
   "metadata": {},
   "outputs": [],
   "source": [
    "from scipy.signal import resample\n",
    "\n",
    "y2 = resample(song.audio[0], (len(song.audio[0])//song.sample_rate)*44100)"
   ]
  },
  {
   "cell_type": "code",
   "execution_count": null,
   "metadata": {},
   "outputs": [],
   "source": [
    "\n",
    "from madmom.features.downbeats import DBNDownBeatTrackingProcessor, RNNDownBeatProcessor\n",
    "\n",
    "downbeats_proc = DBNDownBeatTrackingProcessor(beats_per_bar=[4], fps=100)\n",
    "activations = RNNDownBeatProcessor()\n",
    "\n",
    "activations = activations(y2, sample_rate=44100, num_channels=1)\n",
    "downbeats = downbeats_proc(activations)\n",
    "\n",
    "downbeats"
   ]
  },
  {
   "cell_type": "code",
   "execution_count": null,
   "metadata": {},
   "outputs": [],
   "source": [
    "import librosa\n",
    "beats = librosa.beat.beat_track(y=song.audio[:, 0], sr=song.sample_rate)\n",
    "bpm = beats[0]\n",
    "\n",
    "bpm"
   ]
  },
  {
   "cell_type": "code",
   "execution_count": null,
   "metadata": {},
   "outputs": [],
   "source": [
    "import numpy as np\n",
    "\n",
    "\n",
    "chromagram = librosa.feature.chroma_stft(y=song.audio[:, 0], sr=song.sample_rate)\n",
    "mean_chroma = np.mean(chromagram, axis=1)\n",
    "chroma_to_key = ['C', 'C#', 'D', 'D#', 'E', 'F', 'F#', 'G', 'G#', 'A', 'A#', 'B']\n",
    "estimated_key_index = np.argmax(mean_chroma)\n",
    "estimated_key = chroma_to_key[estimated_key_index]\n",
    "estimated_key\n"
   ]
  },
  {
   "cell_type": "code",
   "execution_count": null,
   "metadata": {},
   "outputs": [],
   "source": [
    "mapped = [min([int(i*song.sample_rate) for i in downbeats[:, 0]], key=lambda x:abs(x-hotspot)) for hotspot in heat_moments]\n",
    "[a/song.sample_rate for a in mapped]"
   ]
  }
 ],
 "metadata": {
  "kernelspec": {
   "display_name": "base",
   "language": "python",
   "name": "python3"
  },
  "language_info": {
   "codemirror_mode": {
    "name": "ipython",
    "version": 3
   },
   "file_extension": ".py",
   "mimetype": "text/x-python",
   "name": "python",
   "nbconvert_exporter": "python",
   "pygments_lexer": "ipython3",
   "version": "3.10.12"
  }
 },
 "nbformat": 4,
 "nbformat_minor": 2
}
